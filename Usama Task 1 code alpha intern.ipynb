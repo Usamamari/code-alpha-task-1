{
 "cells": [
  {
   "cell_type": "markdown",
   "id": "0e651640-8054-43b1-bb24-7671b92264a2",
   "metadata": {},
   "source": [
    "# Iterative Approach"
   ]
  },
  {
   "cell_type": "code",
   "execution_count": 1,
   "id": "94981b15-1f50-4c15-92d3-40715d24933c",
   "metadata": {},
   "outputs": [
    {
     "name": "stdout",
     "output_type": "stream",
     "text": [
      "[0, 1, 1, 2, 3, 5, 8, 13, 21, 34]\n"
     ]
    }
   ],
   "source": [
    "def fibonacci_iterative(n):\n",
    "    fib_sequence = [0, 1]  # Starting values\n",
    "    while len(fib_sequence) < n:\n",
    "        fib_sequence.append(fib_sequence[-1] + fib_sequence[-2])  # Add the sum of the last two numbers\n",
    "    return fib_sequence[:n]  # Return the sequence up to the nth number\n",
    "\n",
    "# Example: Get the first 10 Fibonacci numbers\n",
    "print(fibonacci_iterative(10))\n"
   ]
  },
  {
   "cell_type": "markdown",
   "id": "70c4fc5d-ca42-4263-8cb8-ddb0d121b155",
   "metadata": {},
   "source": [
    "# Recursive Approach"
   ]
  },
  {
   "cell_type": "code",
   "execution_count": 2,
   "id": "74d9c221-a320-4ae2-a209-f380ab1a2e00",
   "metadata": {},
   "outputs": [
    {
     "name": "stdout",
     "output_type": "stream",
     "text": [
      "0\n",
      "1\n",
      "1\n",
      "2\n",
      "3\n",
      "5\n",
      "8\n",
      "13\n",
      "21\n",
      "34\n"
     ]
    }
   ],
   "source": [
    "def fibonacci_recursive(n):\n",
    "    if n <= 0:\n",
    "        return 0\n",
    "    elif n == 1:\n",
    "        return 1\n",
    "    else:\n",
    "        return fibonacci_recursive(n-1) + fibonacci_recursive(n-2)\n",
    "\n",
    "# Example: Print the first 10 Fibonacci numbers\n",
    "for i in range(10):\n",
    "    print(fibonacci_recursive(i))\n"
   ]
  },
  {
   "cell_type": "code",
   "execution_count": null,
   "id": "1710bba1-e3e3-4610-93ac-49e8ea1b1612",
   "metadata": {},
   "outputs": [],
   "source": []
  }
 ],
 "metadata": {
  "kernelspec": {
   "display_name": "Python 3 (ipykernel)",
   "language": "python",
   "name": "python3"
  },
  "language_info": {
   "codemirror_mode": {
    "name": "ipython",
    "version": 3
   },
   "file_extension": ".py",
   "mimetype": "text/x-python",
   "name": "python",
   "nbconvert_exporter": "python",
   "pygments_lexer": "ipython3",
   "version": "3.12.2"
  }
 },
 "nbformat": 4,
 "nbformat_minor": 5
}
